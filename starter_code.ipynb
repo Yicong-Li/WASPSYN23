{
 "cells": [
  {
   "attachments": {},
   "cell_type": "markdown",
   "metadata": {},
   "source": [
    "# Starter Code"
   ]
  },
  {
   "attachments": {},
   "cell_type": "markdown",
   "metadata": {},
   "source": [
    "Here, we briefly introduce the data reading procedures and the data structure."
   ]
  },
  {
   "attachments": {},
   "cell_type": "markdown",
   "metadata": {},
   "source": [
    "## Read Data"
   ]
  },
  {
   "cell_type": "code",
   "execution_count": 17,
   "metadata": {},
   "outputs": [],
   "source": [
    "import h5py\n",
    "\n",
    "# You may need to change the following paths according to your file structure.\n",
    "path_image = '../datasets/training_set/train_sample3_vol0/img_zyx_2217-2617_4038-4448_6335-6735.h5'\n",
    "path_label = '../datasets/training_set/train_sample3_vol0/syns_zyx_2217-2617_4038-4448_6335-6735.h5'"
   ]
  },
  {
   "attachments": {},
   "cell_type": "markdown",
   "metadata": {},
   "source": [
    "### Image"
   ]
  },
  {
   "cell_type": "code",
   "execution_count": 18,
   "metadata": {},
   "outputs": [
    {
     "name": "stdout",
     "output_type": "stream",
     "text": [
      "<KeysViewHDF5 ['main', 'voxel_offset', 'voxel_size']>\n"
     ]
    }
   ],
   "source": [
    "f_image = h5py.File(path_image, 'r')\n",
    "print(f_image.keys())"
   ]
  },
  {
   "attachments": {},
   "cell_type": "markdown",
   "metadata": {},
   "source": [
    "The key ```main``` indicates the image data."
   ]
  },
  {
   "cell_type": "code",
   "execution_count": 19,
   "metadata": {},
   "outputs": [
    {
     "name": "stdout",
     "output_type": "stream",
     "text": [
      "(400, 410, 400)\n"
     ]
    }
   ],
   "source": [
    "image = f_image['main'][:]\n",
    "print(image.shape)\n",
    "f_image.close()"
   ]
  },
  {
   "attachments": {},
   "cell_type": "markdown",
   "metadata": {},
   "source": [
    "### Label"
   ]
  },
  {
   "cell_type": "code",
   "execution_count": 20,
   "metadata": {},
   "outputs": [
    {
     "name": "stdout",
     "output_type": "stream",
     "text": [
      "<KeysViewHDF5 ['post', 'post_users', 'pre', 'pre_confidence', 'pre_users', 'resolution']>\n"
     ]
    }
   ],
   "source": [
    "f_label = h5py.File(path_label, 'r')\n",
    "print(f_label.keys())"
   ]
  },
  {
   "attachments": {},
   "cell_type": "markdown",
   "metadata": {},
   "source": [
    "The key ```pre``` indicates labels of pre-synapses and the key ```post``` indicates labels of post-synapses."
   ]
  },
  {
   "cell_type": "code",
   "execution_count": 21,
   "metadata": {},
   "outputs": [],
   "source": [
    "pre = f_label['pre'][:]\n",
    "post = f_label['post'][:]\n",
    "f_label.close()"
   ]
  },
  {
   "cell_type": "code",
   "execution_count": 22,
   "metadata": {},
   "outputs": [
    {
     "name": "stdout",
     "output_type": "stream",
     "text": [
      "(295, 3)\n",
      "[[2234 4047 6353]\n",
      " [2223 4051 6450]\n",
      " [2239 4040 6463]\n",
      " [2228 4077 6612]\n",
      " [2222 4091 6695]\n",
      " [2224 4091 6682]\n",
      " [2229 4100 6341]\n",
      " [2233 4198 6450]\n",
      " [2219 4199 6463]\n",
      " [2221 4168 6464]]\n"
     ]
    }
   ],
   "source": [
    "print(pre.shape)\n",
    "print(pre[:10, :]) # We take 10 pre-synapses for example."
   ]
  },
  {
   "attachments": {},
   "cell_type": "markdown",
   "metadata": {},
   "source": [
    "Each row contains a 3D coordinate for a pre-synapse. There are 295 pre-synapses in this sample."
   ]
  },
  {
   "cell_type": "code",
   "execution_count": 23,
   "metadata": {},
   "outputs": [
    {
     "name": "stdout",
     "output_type": "stream",
     "text": [
      "(880, 4)\n",
      "[[  25 2236 4051 6360]\n",
      " [   0 2239 4037 6364]\n",
      " [   6 2233 4084 6336]\n",
      " [   6 2233 4091 6351]\n",
      " [   2 2221 4038 6454]\n",
      " [   1 2227 4046 6462]\n",
      " [   1 2223 4036 6455]\n",
      " [   1 2206 4068 6459]\n",
      " [   2 2229 4041 6464]\n",
      " [   3 2239 4063 6604]]\n"
     ]
    }
   ],
   "source": [
    "print(post.shape)\n",
    "print(post[:10, :]) # We take 10 post-synapses for example."
   ]
  },
  {
   "attachments": {},
   "cell_type": "markdown",
   "metadata": {},
   "source": [
    "In each row, the 2nd to the 4th columns contain the coordinate of a post-synapse. The 1st column is the ID (row index in ```pre``` data) of a pre-synapse to which this post-synapse is connected. There are 880 post-synapses in this sample."
   ]
  },
  {
   "attachments": {},
   "cell_type": "markdown",
   "metadata": {},
   "source": [
    "**You need to offset the labels!**"
   ]
  },
  {
   "cell_type": "code",
   "execution_count": 24,
   "metadata": {},
   "outputs": [],
   "source": [
    "offset_zyx = path_label.split('/')[-1].split('_')\n",
    "offset_z = int(offset_zyx[2].split('-')[0])\n",
    "offset_y = int(offset_zyx[3].split('-')[0])\n",
    "offset_x = int(offset_zyx[4].split('-')[0])\n",
    "pre = pre - [offset_z, offset_y, offset_x]\n",
    "post[:, 1:] = post[:, 1:] - [offset_z, offset_y, offset_x]"
   ]
  }
 ],
 "metadata": {
  "kernelspec": {
   "display_name": "base",
   "language": "python",
   "name": "python3"
  },
  "language_info": {
   "codemirror_mode": {
    "name": "ipython",
    "version": 3
   },
   "file_extension": ".py",
   "mimetype": "text/x-python",
   "name": "python",
   "nbconvert_exporter": "python",
   "pygments_lexer": "ipython3",
   "version": "3.9.13"
  },
  "orig_nbformat": 4,
  "vscode": {
   "interpreter": {
    "hash": "dcaa6f8054d84773f98c0b3a30fc658980a8e8428fe3cc3b3753e54feddf7522"
   }
  }
 },
 "nbformat": 4,
 "nbformat_minor": 2
}
